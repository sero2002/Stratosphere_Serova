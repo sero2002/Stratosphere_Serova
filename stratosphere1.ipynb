{
 "cells": [
  {
   "cell_type": "code",
   "execution_count": null,
   "id": "255da8ce",
   "metadata": {},
   "outputs": [],
   "source": [
    "%pylab inline\n",
    "import numpy as np\n",
    "import datetime as dt\n",
    "from datetime import timedelta\n",
    "import pandas as pd\n",
    "import matplotlib.pyplot  as plt\n",
    "\n",
    "from scipy import stats\n",
    "from netCDF4 import Dataset"
   ]
  },
  {
   "cell_type": "code",
   "execution_count": null,
   "id": "73b98401",
   "metadata": {},
   "outputs": [],
   "source": [
    "def save(name='', fmt ='png'):\n",
    "    pwd = os.getcwd()\n",
    "# iPath = './pictures/{}'.format(fmt)\n",
    "    iPath='.'\n",
    "    if not os.path.exists(iPath):\n",
    "        os.mkdir(iPath)\n",
    "    os.chdir(iPath)\n",
    "    plt.savefig('{}.{}'.format(name, fmt), fmt='png')\n",
    "    os.chdir(pwd)\n",
    "# plt.close()\n",
    "# В этой части кода задается функция на конечный результат. Конечный продукт - графики в формате png."
   ]
  },
  {
   "cell_type": "code",
   "execution_count": null,
   "id": "7215c5fe",
   "metadata": {},
   "outputs": [],
   "source": [
    "data_path = 'C:\\\\Users\\\\23\\\\anaconda3\\\\'\n",
    "file_u60 = data_path + 'jra55.uwnd.60N_mean.5859-2021.djf.wo29feb.nc'\n",
    "# В этой части кода загружается файл с данными внезапного стратосферного потепления, которые и будут анализироваться в этой работе. "
   ]
  },
  {
   "cell_type": "code",
   "execution_count": null,
   "id": "9f53a502",
   "metadata": {},
   "outputs": [],
   "source": [
    "file_u60 \n",
    "# Проверили, что файл прогрузился."
   ]
  },
  {
   "cell_type": "code",
   "execution_count": null,
   "id": "200e9910",
   "metadata": {},
   "outputs": [],
   "source": [
    "ncin=Dataset(file_u60,'r')\n",
    "w60_djf_6h=ncin.variables['var33'][:]\n",
    "\n",
    "# lons=ncin.variables['lon'][:]\n",
    "# lats=ncin.variables['lat'][:]\n",
    "# levs=ncin.variables['lev'][:]\n",
    "\n",
    "time=ncin.variables['time'][:]\n",
    "ncin.close()\n",
    "\n",
    "# В этой части кода задали переменные времени, широты, долготы, высоты, которые описывают индекс w60, используемый в работе. "
   ]
  },
  {
   "cell_type": "code",
   "execution_count": null,
   "id": "b34712d6",
   "metadata": {},
   "outputs": [],
   "source": [
    "w60_djf_6h.shape\n",
    "# Проверили, что все работает. "
   ]
  },
  {
   "cell_type": "code",
   "execution_count": null,
   "id": "02f8cb44",
   "metadata": {},
   "outputs": [],
   "source": [
    "u60_djf = np.squeeze(w60_djf_6h)"
   ]
  },
  {
   "cell_type": "code",
   "execution_count": null,
   "id": "1503a97e",
   "metadata": {},
   "outputs": [],
   "source": [
    "u60_djf.shape\n",
    "# Убрали ненужные значения, вывели значение количества данных. "
   ]
  },
  {
   "cell_type": "code",
   "execution_count": null,
   "id": "04bff5ae",
   "metadata": {},
   "outputs": [],
   "source": [
    "u60=np.empty([63, 360])\n",
    "for i in range (63):\n",
    "     u60[i, 0:360] = u60_djf[i*360:i*360 + 360]\n",
    "# Задаем переменную u60 и начинаем ее считать (по этой переменной потом будет строиться график). "
   ]
  },
  {
   "cell_type": "code",
   "execution_count": null,
   "id": "6d80af15",
   "metadata": {},
   "outputs": [],
   "source": [
    "u60.shape"
   ]
  },
  {
   "cell_type": "code",
   "execution_count": null,
   "id": "d083ccba",
   "metadata": {},
   "outputs": [],
   "source": [
    "u60_mean=np.mean(u60, axis=0)\n",
    "u60_min=np.min(u60, axis=0)\n",
    "u60_max=np.max(u60, axis=0)\n",
    "# Посчитали минимум, максимум и среднее. "
   ]
  },
  {
   "cell_type": "code",
   "execution_count": null,
   "id": "03299660",
   "metadata": {},
   "outputs": [],
   "source": [
    "u60_min.shape"
   ]
  },
  {
   "cell_type": "code",
   "execution_count": null,
   "id": "a1dbc2fa",
   "metadata": {},
   "outputs": [],
   "source": [
    "days_u60=np.asarray([[i] for i in range(0, 360, 1)])\n",
    "fig1=plt.figure(figsize = (8, 4), dpi=100)\n",
    "ax1=fig1.add_subplot(1, 1, 1, label='1')\n",
    "gr1=ax1.plot(days_u60, u60_mean, color='purple')\n",
    "gr2=ax1.plot(days_u60, u60_min, color='grey')\n",
    "gr3=ax1.plot(days_u60, u60_max, color='blue')\n",
    "\n",
    "ax1.set_xlabel(\"Дни внутри периода декабрь-февраль\")\n",
    "ax1.set_ylabel(\"Скорость ветра, мс$^{-1}$\")\n",
    "ax1.grid(linewidth='0.5', color='silver', linestyle='dashed')\n",
    "ax1.set_title('Среднемноголетнее значение зональной компоненты скорости ветра,\\n осредненной вдоль 60 град. с.ш. на уровне 10 гПа за период 5859-2021',loc='left')\n",
    "\n",
    "plt.tight_layout()\n",
    "plt.savefig(data_path + 'u60_10_mean_5859-2021.png')\n",
    "# В этой части кода строится график и задаются параметры его оформления. "
   ]
  },
  {
   "cell_type": "code",
   "execution_count": null,
   "id": "bc6fba26",
   "metadata": {},
   "outputs": [],
   "source": [
    "fig1=plt.figure(figsize = (8, 4), dpi=100)\n",
    "ax1=fig1.add_subplot(1, 1, 1, label='1')\n",
    "gr1=ax1.plot(days_u60, u60[21,:], color='purple')\n",
    "\n",
    "\n",
    "ax1.set_xlabel(\"Дни внутри периода декабрь-февраль\")\n",
    "ax1.set_ylabel(\"Скорость ветра, мс$^{-1}$\")\n",
    "ax1.grid(linewidth='0.5', color='silver', linestyle='dashed')\n",
    "ax1.set_title('Значение зональной компоненты скорости ветра,\\n осредненной вдоль 60 град. с.ш. на уровне 10 гПа за зиму 1979-80',loc='left')\n",
    "\n",
    "plt.tight_layout()\n",
    "plt.savefig(data_path + 'u60_10_example_particular_year.png')"
   ]
  },
  {
   "cell_type": "code",
   "execution_count": null,
   "id": "4cf75892",
   "metadata": {},
   "outputs": [],
   "source": [
    "fig1 = plt.figure(figsize = (8, 4), dpi=100)\n",
    "ax1=fig1.add_subplot(1, 1, 1, label='1')\n",
    "gr1=ax1.plot(days_u60, u60[12,:], color='purple', linewidth='1.5')\n",
    "gr1=ax1.plot([0, 360], [0, 0], color='red', linewidth='0.8')\n",
    "\n",
    "ax1.set_xlabel(\"Дни внутри периода декабрь-февраль\")\n",
    "ax1.set_ylabel(\"Скорость ветра, мс$^{-1}$\")\n",
    "ax1.grid(linewidth='0.5', color='silver', linestyle='dashed')\n",
    "ax1.set_title('Значение зональной компоненты скорости ветра,\\n осредненной вдоль 60 град. с.ш. на уровне 10 гПа за зиму 1970-71',loc='left')\n",
    "\n",
    "plt.tight_layout()\n",
    "plt.savefig(data_path + 'u60_10_example_ssw_particular_year.png')"
   ]
  },
  {
   "cell_type": "code",
   "execution_count": null,
   "id": "cea660f3",
   "metadata": {},
   "outputs": [],
   "source": [
    "for i in range(63):\n",
    "    for j in range(360):\n",
    "        if u60[i, j] < 0: \n",
    "            print(i, j)\n",
    "            j = 359\n",
    "# Эта часть кода показывает года и дни, когда наблюдались внезапные стратосферные потепления. "
   ]
  },
  {
   "cell_type": "code",
   "execution_count": null,
   "id": "c8b9c94c",
   "metadata": {},
   "outputs": [],
   "source": []
  }
 ],
 "metadata": {
  "kernelspec": {
   "display_name": "Python 3 (ipykernel)",
   "language": "python",
   "name": "python3"
  },
  "language_info": {
   "codemirror_mode": {
    "name": "ipython",
    "version": 3
   },
   "file_extension": ".py",
   "mimetype": "text/x-python",
   "name": "python",
   "nbconvert_exporter": "python",
   "pygments_lexer": "ipython3",
   "version": "3.11.5"
  }
 },
 "nbformat": 4,
 "nbformat_minor": 5
}
